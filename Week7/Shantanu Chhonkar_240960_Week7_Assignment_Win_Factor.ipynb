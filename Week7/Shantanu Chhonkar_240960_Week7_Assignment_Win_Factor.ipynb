{
  "cells": [
    {
      "cell_type": "markdown",
      "metadata": {
        "id": "MHTkhhI4KaT-"
      },
      "source": [
        " # IMPORING LIBRARIES and DATASET"
      ]
    },
    {
      "cell_type": "code",
      "execution_count": 1,
      "metadata": {
        "id": "DxFCE3MvKCmx"
      },
      "outputs": [
        {
          "name": "stderr",
          "output_type": "stream",
          "text": [
            "c:\\Users\\chhon\\AppData\\Local\\Programs\\Python\\Python312\\Lib\\site-packages\\tqdm\\auto.py:21: TqdmWarning: IProgress not found. Please update jupyter and ipywidgets. See https://ipywidgets.readthedocs.io/en/stable/user_install.html\n",
            "  from .autonotebook import tqdm as notebook_tqdm\n"
          ]
        }
      ],
      "source": [
        "import pandas as pd\n",
        "import numpy as np\n",
        "import matplotlib.pyplot as plt\n",
        "import seaborn as sns\n",
        "import gradio as gr\n",
        "\n",
        "from sklearn.preprocessing import LabelEncoder, StandardScaler\n",
        "from sklearn.model_selection import train_test_split\n",
        "from sklearn.linear_model import LinearRegression\n",
        "from sklearn.tree import DecisionTreeRegressor\n",
        "from sklearn.decomposition import PCA\n",
        "from sklearn.metrics import mean_absolute_error, mean_squared_error, r2_score\n",
        "\n",
        "import shap\n",
        "import xgboost as xgb\n",
        "import warnings\n",
        "warnings.filterwarnings('ignore')\n",
        "\n",
        "from datetime import datetime\n",
        "import pickle"
      ]
    },
    {
      "cell_type": "code",
      "execution_count": 2,
      "metadata": {
        "id": "Ia3BGWbhG5MD"
      },
      "outputs": [],
      "source": [
        "import torch\n",
        "import torch.nn as nn\n",
        "import torch.optim as optim\n",
        "import random\n",
        "import numpy as np\n",
        "from collections import deque"
      ]
    },
    {
      "cell_type": "markdown",
      "metadata": {
        "id": "SRzhCGKjKzQq"
      },
      "source": [
        "Loading Dataset"
      ]
    },
    {
      "cell_type": "code",
      "execution_count": 3,
      "metadata": {
        "colab": {
          "base_uri": "https://localhost:8080/"
        },
        "id": "prMdCGr8Ktkj",
        "outputId": "7993344e-d72a-45e7-c40c-e4559d0cb15c"
      },
      "outputs": [
        {
          "data": {
            "text/plain": [
              "(416712, 59)"
            ]
          },
          "execution_count": 3,
          "metadata": {},
          "output_type": "execute_result"
        }
      ],
      "source": [
        "df = pd.read_csv(\"C:/Users/chhon/Python Notebooks/BCS_Win_Factor_Summer_Project/mw_pw_profiles.csv\")\n",
        "df.shape"
      ]
    },
    {
      "cell_type": "code",
      "execution_count": 4,
      "metadata": {
        "colab": {
          "base_uri": "https://localhost:8080/"
        },
        "id": "O4yfek4CL330",
        "outputId": "00b23795-07da-4bb1-95f5-db1ef1067c26"
      },
      "outputs": [
        {
          "data": {
            "text/plain": [
              "Index(['Unnamed: 0', 'player_id', 'match_id', 'gender', 'balls_per_over',\n",
              "       'start_date', 'series_name', 'match_type', 'name_x', 'runs_scored',\n",
              "       'player_out', 'balls_faced', 'fours_scored', 'sixes_scored',\n",
              "       'catches_taken', 'run_out_direct', 'run_out_throw', 'stumpings_done',\n",
              "       'out_kind', 'dot_balls_as_batsman', 'order_seen', 'balls_bowled',\n",
              "       'runs_conceded', 'wickets_taken', 'bowled_done', 'lbw_done', 'maidens',\n",
              "       'dot_balls_as_bowler', 'player_team', 'opposition_team', 'name_y',\n",
              "       'unique_name', 'key_bcci', 'key_bcci_2', 'key_bigbash', 'key_cricbuzz',\n",
              "       'key_cricheroes', 'key_crichq', 'key_cricinfo', 'key_cricinfo_2',\n",
              "       'key_cricinfo_3', 'key_cricingif', 'key_cricketarchive',\n",
              "       'key_cricketarchive_2', 'key_cricketworld', 'key_nvplay',\n",
              "       'key_nvplay_2', 'key_opta', 'key_opta_2', 'key_pulse', 'key_pulse_2',\n",
              "       'full_name', 'batting_style', 'bowling_style', 'playing_role', 'teams',\n",
              "       'fantasy_score_batting', 'fantasy_score_bowling',\n",
              "       'fantasy_score_total'],\n",
              "      dtype='object')"
            ]
          },
          "execution_count": 4,
          "metadata": {},
          "output_type": "execute_result"
        }
      ],
      "source": [
        "df.columns"
      ]
    },
    {
      "cell_type": "markdown",
      "metadata": {
        "id": "OuGCuZOPMv69"
      },
      "source": [
        "# Working on Data"
      ]
    },
    {
      "cell_type": "code",
      "execution_count": 5,
      "metadata": {
        "colab": {
          "base_uri": "https://localhost:8080/",
          "height": 602
        },
        "id": "UvgJcX-iLMcd",
        "outputId": "f39f1fdc-cdc6-4bd6-a74c-5f1838c5cb77"
      },
      "outputs": [
        {
          "data": {
            "text/html": [
              "<div>\n",
              "<style scoped>\n",
              "    .dataframe tbody tr th:only-of-type {\n",
              "        vertical-align: middle;\n",
              "    }\n",
              "\n",
              "    .dataframe tbody tr th {\n",
              "        vertical-align: top;\n",
              "    }\n",
              "\n",
              "    .dataframe thead th {\n",
              "        text-align: right;\n",
              "    }\n",
              "</style>\n",
              "<table border=\"1\" class=\"dataframe\">\n",
              "  <thead>\n",
              "    <tr style=\"text-align: right;\">\n",
              "      <th></th>\n",
              "      <th>Unnamed: 0</th>\n",
              "      <th>player_id</th>\n",
              "      <th>match_id</th>\n",
              "      <th>gender</th>\n",
              "      <th>balls_per_over</th>\n",
              "      <th>start_date</th>\n",
              "      <th>series_name</th>\n",
              "      <th>match_type</th>\n",
              "      <th>name_x</th>\n",
              "      <th>runs_scored</th>\n",
              "      <th>...</th>\n",
              "      <th>key_pulse_2</th>\n",
              "      <th>full_name</th>\n",
              "      <th>batting_style</th>\n",
              "      <th>bowling_style</th>\n",
              "      <th>playing_role</th>\n",
              "      <th>teams</th>\n",
              "      <th>fantasy_score_batting</th>\n",
              "      <th>fantasy_score_bowling</th>\n",
              "      <th>fantasy_score_total</th>\n",
              "      <th>match_date</th>\n",
              "    </tr>\n",
              "  </thead>\n",
              "  <tbody>\n",
              "    <tr>\n",
              "      <th>0</th>\n",
              "      <td>0</td>\n",
              "      <td>00015688</td>\n",
              "      <td>1158348</td>\n",
              "      <td>female</td>\n",
              "      <td>6</td>\n",
              "      <td>2018-08-21</td>\n",
              "      <td>Botswana Cricket Association Women's T20I Series</td>\n",
              "      <td>T20</td>\n",
              "      <td>M King</td>\n",
              "      <td>10</td>\n",
              "      <td>...</td>\n",
              "      <td>NaN</td>\n",
              "      <td>NaN</td>\n",
              "      <td>NaN</td>\n",
              "      <td>NaN</td>\n",
              "      <td>NaN</td>\n",
              "      <td>[]</td>\n",
              "      <td>5</td>\n",
              "      <td>8</td>\n",
              "      <td>17</td>\n",
              "      <td>2018-08-21</td>\n",
              "    </tr>\n",
              "    <tr>\n",
              "      <th>1</th>\n",
              "      <td>1</td>\n",
              "      <td>00015688</td>\n",
              "      <td>1182644</td>\n",
              "      <td>female</td>\n",
              "      <td>6</td>\n",
              "      <td>2019-05-05</td>\n",
              "      <td>ICC Women's T20 World Cup Africa Region Qualifier</td>\n",
              "      <td>T20</td>\n",
              "      <td>M King</td>\n",
              "      <td>8</td>\n",
              "      <td>...</td>\n",
              "      <td>NaN</td>\n",
              "      <td>NaN</td>\n",
              "      <td>NaN</td>\n",
              "      <td>NaN</td>\n",
              "      <td>NaN</td>\n",
              "      <td>[]</td>\n",
              "      <td>3</td>\n",
              "      <td>0</td>\n",
              "      <td>7</td>\n",
              "      <td>2019-05-05</td>\n",
              "    </tr>\n",
              "    <tr>\n",
              "      <th>2</th>\n",
              "      <td>2</td>\n",
              "      <td>00015688</td>\n",
              "      <td>1275107</td>\n",
              "      <td>female</td>\n",
              "      <td>6</td>\n",
              "      <td>2021-09-09</td>\n",
              "      <td>ICC Women's T20 World Cup Africa Region Qualifier</td>\n",
              "      <td>T20</td>\n",
              "      <td>M King</td>\n",
              "      <td>1</td>\n",
              "      <td>...</td>\n",
              "      <td>NaN</td>\n",
              "      <td>NaN</td>\n",
              "      <td>NaN</td>\n",
              "      <td>NaN</td>\n",
              "      <td>NaN</td>\n",
              "      <td>[]</td>\n",
              "      <td>1</td>\n",
              "      <td>0</td>\n",
              "      <td>5</td>\n",
              "      <td>2021-09-09</td>\n",
              "    </tr>\n",
              "    <tr>\n",
              "      <th>3</th>\n",
              "      <td>3</td>\n",
              "      <td>00015688</td>\n",
              "      <td>1275113</td>\n",
              "      <td>female</td>\n",
              "      <td>6</td>\n",
              "      <td>2021-09-15</td>\n",
              "      <td>ICC Women's T20 World Cup Africa Region Qualifier</td>\n",
              "      <td>T20</td>\n",
              "      <td>M King</td>\n",
              "      <td>0</td>\n",
              "      <td>...</td>\n",
              "      <td>NaN</td>\n",
              "      <td>NaN</td>\n",
              "      <td>NaN</td>\n",
              "      <td>NaN</td>\n",
              "      <td>NaN</td>\n",
              "      <td>[]</td>\n",
              "      <td>0</td>\n",
              "      <td>0</td>\n",
              "      <td>4</td>\n",
              "      <td>2021-09-15</td>\n",
              "    </tr>\n",
              "    <tr>\n",
              "      <th>4</th>\n",
              "      <td>4</td>\n",
              "      <td>00015688</td>\n",
              "      <td>1275125</td>\n",
              "      <td>female</td>\n",
              "      <td>6</td>\n",
              "      <td>2021-09-14</td>\n",
              "      <td>ICC Women's T20 World Cup Africa Region Qualifier</td>\n",
              "      <td>T20</td>\n",
              "      <td>M King</td>\n",
              "      <td>1</td>\n",
              "      <td>...</td>\n",
              "      <td>NaN</td>\n",
              "      <td>NaN</td>\n",
              "      <td>NaN</td>\n",
              "      <td>NaN</td>\n",
              "      <td>NaN</td>\n",
              "      <td>[]</td>\n",
              "      <td>-5</td>\n",
              "      <td>0</td>\n",
              "      <td>-1</td>\n",
              "      <td>2021-09-14</td>\n",
              "    </tr>\n",
              "  </tbody>\n",
              "</table>\n",
              "<p>5 rows × 60 columns</p>\n",
              "</div>"
            ],
            "text/plain": [
              "   Unnamed: 0 player_id match_id  gender  balls_per_over  start_date  \\\n",
              "0           0  00015688  1158348  female               6  2018-08-21   \n",
              "1           1  00015688  1182644  female               6  2019-05-05   \n",
              "2           2  00015688  1275107  female               6  2021-09-09   \n",
              "3           3  00015688  1275113  female               6  2021-09-15   \n",
              "4           4  00015688  1275125  female               6  2021-09-14   \n",
              "\n",
              "                                         series_name match_type  name_x  \\\n",
              "0   Botswana Cricket Association Women's T20I Series        T20  M King   \n",
              "1  ICC Women's T20 World Cup Africa Region Qualifier        T20  M King   \n",
              "2  ICC Women's T20 World Cup Africa Region Qualifier        T20  M King   \n",
              "3  ICC Women's T20 World Cup Africa Region Qualifier        T20  M King   \n",
              "4  ICC Women's T20 World Cup Africa Region Qualifier        T20  M King   \n",
              "\n",
              "   runs_scored  ...  key_pulse_2  full_name  batting_style  bowling_style  \\\n",
              "0           10  ...          NaN        NaN            NaN            NaN   \n",
              "1            8  ...          NaN        NaN            NaN            NaN   \n",
              "2            1  ...          NaN        NaN            NaN            NaN   \n",
              "3            0  ...          NaN        NaN            NaN            NaN   \n",
              "4            1  ...          NaN        NaN            NaN            NaN   \n",
              "\n",
              "   playing_role  teams  fantasy_score_batting  fantasy_score_bowling  \\\n",
              "0           NaN     []                      5                      8   \n",
              "1           NaN     []                      3                      0   \n",
              "2           NaN     []                      1                      0   \n",
              "3           NaN     []                      0                      0   \n",
              "4           NaN     []                     -5                      0   \n",
              "\n",
              "  fantasy_score_total  match_date  \n",
              "0                  17  2018-08-21  \n",
              "1                   7  2019-05-05  \n",
              "2                   5  2021-09-09  \n",
              "3                   4  2021-09-15  \n",
              "4                  -1  2021-09-14  \n",
              "\n",
              "[5 rows x 60 columns]"
            ]
          },
          "execution_count": 5,
          "metadata": {},
          "output_type": "execute_result"
        }
      ],
      "source": [
        "df['match_date'] = pd.to_datetime(df['start_date'])\n",
        "df.head()"
      ]
    },
    {
      "cell_type": "code",
      "execution_count": 6,
      "metadata": {
        "colab": {
          "base_uri": "https://localhost:8080/",
          "height": 568
        },
        "id": "DpklHiMvLxlp",
        "outputId": "da1ebea9-d9b0-41df-fd55-af542085bd34"
      },
      "outputs": [
        {
          "data": {
            "text/html": [
              "<div>\n",
              "<style scoped>\n",
              "    .dataframe tbody tr th:only-of-type {\n",
              "        vertical-align: middle;\n",
              "    }\n",
              "\n",
              "    .dataframe tbody tr th {\n",
              "        vertical-align: top;\n",
              "    }\n",
              "\n",
              "    .dataframe thead th {\n",
              "        text-align: right;\n",
              "    }\n",
              "</style>\n",
              "<table border=\"1\" class=\"dataframe\">\n",
              "  <thead>\n",
              "    <tr style=\"text-align: right;\">\n",
              "      <th></th>\n",
              "      <th>Unnamed: 0</th>\n",
              "      <th>player_id</th>\n",
              "      <th>match_id</th>\n",
              "      <th>gender</th>\n",
              "      <th>balls_per_over</th>\n",
              "      <th>start_date</th>\n",
              "      <th>series_name</th>\n",
              "      <th>match_type</th>\n",
              "      <th>name_x</th>\n",
              "      <th>runs_scored</th>\n",
              "      <th>...</th>\n",
              "      <th>key_pulse_2</th>\n",
              "      <th>full_name</th>\n",
              "      <th>batting_style</th>\n",
              "      <th>bowling_style</th>\n",
              "      <th>playing_role</th>\n",
              "      <th>teams</th>\n",
              "      <th>fantasy_score_batting</th>\n",
              "      <th>fantasy_score_bowling</th>\n",
              "      <th>fantasy_score_total</th>\n",
              "      <th>match_date</th>\n",
              "    </tr>\n",
              "  </thead>\n",
              "  <tbody>\n",
              "    <tr>\n",
              "      <th>121900</th>\n",
              "      <td>121900</td>\n",
              "      <td>4e38a3d6</td>\n",
              "      <td>1485778</td>\n",
              "      <td>female</td>\n",
              "      <td>6</td>\n",
              "      <td>2025-05-20</td>\n",
              "      <td>ICC Women's T20 World Cup Asia Region Qualifier</td>\n",
              "      <td>T20</td>\n",
              "      <td>R Poddar</td>\n",
              "      <td>4</td>\n",
              "      <td>...</td>\n",
              "      <td>NaN</td>\n",
              "      <td>NaN</td>\n",
              "      <td>NaN</td>\n",
              "      <td>NaN</td>\n",
              "      <td>NaN</td>\n",
              "      <td>[]</td>\n",
              "      <td>-2</td>\n",
              "      <td>0</td>\n",
              "      <td>2</td>\n",
              "      <td>2025-05-20</td>\n",
              "    </tr>\n",
              "    <tr>\n",
              "      <th>305516</th>\n",
              "      <td>305516</td>\n",
              "      <td>bd36bc39</td>\n",
              "      <td>1485778</td>\n",
              "      <td>female</td>\n",
              "      <td>6</td>\n",
              "      <td>2025-05-20</td>\n",
              "      <td>ICC Women's T20 World Cup Asia Region Qualifier</td>\n",
              "      <td>T20</td>\n",
              "      <td>S Chaturongrattana</td>\n",
              "      <td>0</td>\n",
              "      <td>...</td>\n",
              "      <td>NaN</td>\n",
              "      <td>NaN</td>\n",
              "      <td>NaN</td>\n",
              "      <td>NaN</td>\n",
              "      <td>NaN</td>\n",
              "      <td>[]</td>\n",
              "      <td>0</td>\n",
              "      <td>16</td>\n",
              "      <td>20</td>\n",
              "      <td>2025-05-20</td>\n",
              "    </tr>\n",
              "    <tr>\n",
              "      <th>401343</th>\n",
              "      <td>401343</td>\n",
              "      <td>f6ddfe08</td>\n",
              "      <td>1485778</td>\n",
              "      <td>female</td>\n",
              "      <td>6</td>\n",
              "      <td>2025-05-20</td>\n",
              "      <td>ICC Women's T20 World Cup Asia Region Qualifier</td>\n",
              "      <td>T20</td>\n",
              "      <td>C Sutthiruang</td>\n",
              "      <td>0</td>\n",
              "      <td>...</td>\n",
              "      <td>NaN</td>\n",
              "      <td>NaN</td>\n",
              "      <td>NaN</td>\n",
              "      <td>NaN</td>\n",
              "      <td>NaN</td>\n",
              "      <td>[]</td>\n",
              "      <td>0</td>\n",
              "      <td>12</td>\n",
              "      <td>16</td>\n",
              "      <td>2025-05-20</td>\n",
              "    </tr>\n",
              "    <tr>\n",
              "      <th>258473</th>\n",
              "      <td>258473</td>\n",
              "      <td>a2f46292</td>\n",
              "      <td>1473500</td>\n",
              "      <td>male</td>\n",
              "      <td>6</td>\n",
              "      <td>2025-05-20</td>\n",
              "      <td>Indian Premier League</td>\n",
              "      <td>T20</td>\n",
              "      <td>KK Ahmed</td>\n",
              "      <td>0</td>\n",
              "      <td>...</td>\n",
              "      <td>NaN</td>\n",
              "      <td>NaN</td>\n",
              "      <td>NaN</td>\n",
              "      <td>NaN</td>\n",
              "      <td>NaN</td>\n",
              "      <td>[]</td>\n",
              "      <td>0</td>\n",
              "      <td>-4</td>\n",
              "      <td>0</td>\n",
              "      <td>2025-05-20</td>\n",
              "    </tr>\n",
              "    <tr>\n",
              "      <th>238281</th>\n",
              "      <td>238281</td>\n",
              "      <td>97e6e41a</td>\n",
              "      <td>1485778</td>\n",
              "      <td>female</td>\n",
              "      <td>6</td>\n",
              "      <td>2025-05-20</td>\n",
              "      <td>ICC Women's T20 World Cup Asia Region Qualifier</td>\n",
              "      <td>T20</td>\n",
              "      <td>K Kunwar</td>\n",
              "      <td>24</td>\n",
              "      <td>...</td>\n",
              "      <td>NaN</td>\n",
              "      <td>NaN</td>\n",
              "      <td>NaN</td>\n",
              "      <td>NaN</td>\n",
              "      <td>NaN</td>\n",
              "      <td>[]</td>\n",
              "      <td>25</td>\n",
              "      <td>0</td>\n",
              "      <td>29</td>\n",
              "      <td>2025-05-20</td>\n",
              "    </tr>\n",
              "  </tbody>\n",
              "</table>\n",
              "<p>5 rows × 60 columns</p>\n",
              "</div>"
            ],
            "text/plain": [
              "        Unnamed: 0 player_id match_id  gender  balls_per_over  start_date  \\\n",
              "121900      121900  4e38a3d6  1485778  female               6  2025-05-20   \n",
              "305516      305516  bd36bc39  1485778  female               6  2025-05-20   \n",
              "401343      401343  f6ddfe08  1485778  female               6  2025-05-20   \n",
              "258473      258473  a2f46292  1473500    male               6  2025-05-20   \n",
              "238281      238281  97e6e41a  1485778  female               6  2025-05-20   \n",
              "\n",
              "                                            series_name match_type  \\\n",
              "121900  ICC Women's T20 World Cup Asia Region Qualifier        T20   \n",
              "305516  ICC Women's T20 World Cup Asia Region Qualifier        T20   \n",
              "401343  ICC Women's T20 World Cup Asia Region Qualifier        T20   \n",
              "258473                            Indian Premier League        T20   \n",
              "238281  ICC Women's T20 World Cup Asia Region Qualifier        T20   \n",
              "\n",
              "                    name_x  runs_scored  ...  key_pulse_2  full_name  \\\n",
              "121900            R Poddar            4  ...          NaN        NaN   \n",
              "305516  S Chaturongrattana            0  ...          NaN        NaN   \n",
              "401343       C Sutthiruang            0  ...          NaN        NaN   \n",
              "258473            KK Ahmed            0  ...          NaN        NaN   \n",
              "238281            K Kunwar           24  ...          NaN        NaN   \n",
              "\n",
              "        batting_style  bowling_style  playing_role  teams  \\\n",
              "121900            NaN            NaN           NaN     []   \n",
              "305516            NaN            NaN           NaN     []   \n",
              "401343            NaN            NaN           NaN     []   \n",
              "258473            NaN            NaN           NaN     []   \n",
              "238281            NaN            NaN           NaN     []   \n",
              "\n",
              "        fantasy_score_batting  fantasy_score_bowling fantasy_score_total  \\\n",
              "121900                     -2                      0                   2   \n",
              "305516                      0                     16                  20   \n",
              "401343                      0                     12                  16   \n",
              "258473                      0                     -4                   0   \n",
              "238281                     25                      0                  29   \n",
              "\n",
              "        match_date  \n",
              "121900  2025-05-20  \n",
              "305516  2025-05-20  \n",
              "401343  2025-05-20  \n",
              "258473  2025-05-20  \n",
              "238281  2025-05-20  \n",
              "\n",
              "[5 rows x 60 columns]"
            ]
          },
          "execution_count": 6,
          "metadata": {},
          "output_type": "execute_result"
        }
      ],
      "source": [
        "df.sort_values(by='match_date', inplace=True)\n",
        "df.tail()"
      ]
    },
    {
      "cell_type": "code",
      "execution_count": 7,
      "metadata": {
        "colab": {
          "base_uri": "https://localhost:8080/"
        },
        "id": "uMe_EFUeMgZH",
        "outputId": "5df23195-723f-48c7-b48d-0acf56367577"
      },
      "outputs": [
        {
          "name": "stdout",
          "output_type": "stream",
          "text": [
            "<class 'pandas.core.frame.DataFrame'>\n",
            "Index: 416712 entries, 397451 to 238281\n",
            "Data columns (total 60 columns):\n",
            " #   Column                 Non-Null Count   Dtype         \n",
            "---  ------                 --------------   -----         \n",
            " 0   Unnamed: 0             416712 non-null  int64         \n",
            " 1   player_id              416712 non-null  object        \n",
            " 2   match_id               416712 non-null  object        \n",
            " 3   gender                 416712 non-null  object        \n",
            " 4   balls_per_over         416712 non-null  int64         \n",
            " 5   start_date             416712 non-null  object        \n",
            " 6   series_name            414752 non-null  object        \n",
            " 7   match_type             416712 non-null  object        \n",
            " 8   name_x                 416712 non-null  object        \n",
            " 9   runs_scored            416712 non-null  int64         \n",
            " 10  player_out             416712 non-null  int64         \n",
            " 11  balls_faced            416712 non-null  int64         \n",
            " 12  fours_scored           416712 non-null  int64         \n",
            " 13  sixes_scored           416712 non-null  int64         \n",
            " 14  catches_taken          416712 non-null  int64         \n",
            " 15  run_out_direct         416712 non-null  int64         \n",
            " 16  run_out_throw          416712 non-null  int64         \n",
            " 17  stumpings_done         416712 non-null  int64         \n",
            " 18  out_kind               416712 non-null  object        \n",
            " 19  dot_balls_as_batsman   416712 non-null  int64         \n",
            " 20  order_seen             416712 non-null  int64         \n",
            " 21  balls_bowled           416712 non-null  int64         \n",
            " 22  runs_conceded          416712 non-null  int64         \n",
            " 23  wickets_taken          416712 non-null  int64         \n",
            " 24  bowled_done            416712 non-null  int64         \n",
            " 25  lbw_done               416712 non-null  int64         \n",
            " 26  maidens                416712 non-null  int64         \n",
            " 27  dot_balls_as_bowler    416712 non-null  int64         \n",
            " 28  player_team            416712 non-null  object        \n",
            " 29  opposition_team        416712 non-null  object        \n",
            " 30  name_y                 416709 non-null  object        \n",
            " 31  unique_name            416709 non-null  object        \n",
            " 32  key_bcci               36929 non-null   object        \n",
            " 33  key_bcci_2             974 non-null     object        \n",
            " 34  key_bigbash            52360 non-null   float64       \n",
            " 35  key_cricbuzz           4045 non-null    float64       \n",
            " 36  key_cricheroes         1163 non-null    float64       \n",
            " 37  key_crichq             110 non-null     float64       \n",
            " 38  key_cricinfo           416597 non-null  float64       \n",
            " 39  key_cricinfo_2         1939 non-null    float64       \n",
            " 40  key_cricinfo_3         16 non-null      float64       \n",
            " 41  key_cricingif          29368 non-null   float64       \n",
            " 42  key_cricketarchive     269890 non-null  float64       \n",
            " 43  key_cricketarchive_2   46 non-null      float64       \n",
            " 44  key_cricketworld       6672 non-null    float64       \n",
            " 45  key_nvplay             78436 non-null   object        \n",
            " 46  key_nvplay_2           1913 non-null    object        \n",
            " 47  key_opta               6153 non-null    float64       \n",
            " 48  key_opta_2             105 non-null     float64       \n",
            " 49  key_pulse              257948 non-null  float64       \n",
            " 50  key_pulse_2            1942 non-null    float64       \n",
            " 51  full_name              0 non-null       float64       \n",
            " 52  batting_style          0 non-null       float64       \n",
            " 53  bowling_style          0 non-null       float64       \n",
            " 54  playing_role           0 non-null       float64       \n",
            " 55  teams                  416597 non-null  object        \n",
            " 56  fantasy_score_batting  416712 non-null  int64         \n",
            " 57  fantasy_score_bowling  416712 non-null  int64         \n",
            " 58  fantasy_score_total    416712 non-null  int64         \n",
            " 59  match_date             416712 non-null  datetime64[ns]\n",
            "dtypes: datetime64[ns](1), float64(19), int64(23), object(17)\n",
            "memory usage: 193.9+ MB\n"
          ]
        }
      ],
      "source": [
        "df.info()"
      ]
    },
    {
      "cell_type": "code",
      "execution_count": 8,
      "metadata": {
        "colab": {
          "base_uri": "https://localhost:8080/",
          "height": 1000
        },
        "id": "e3UONCOoM-1r",
        "outputId": "00ffbec5-1386-46c7-a93a-3b12ecf645a0"
      },
      "outputs": [
        {
          "data": {
            "text/plain": [
              "Unnamed: 0                    0\n",
              "player_id                     0\n",
              "match_id                      0\n",
              "gender                        0\n",
              "balls_per_over                0\n",
              "start_date                    0\n",
              "series_name                1960\n",
              "match_type                    0\n",
              "name_x                        0\n",
              "runs_scored                   0\n",
              "player_out                    0\n",
              "balls_faced                   0\n",
              "fours_scored                  0\n",
              "sixes_scored                  0\n",
              "catches_taken                 0\n",
              "run_out_direct                0\n",
              "run_out_throw                 0\n",
              "stumpings_done                0\n",
              "out_kind                      0\n",
              "dot_balls_as_batsman          0\n",
              "order_seen                    0\n",
              "balls_bowled                  0\n",
              "runs_conceded                 0\n",
              "wickets_taken                 0\n",
              "bowled_done                   0\n",
              "lbw_done                      0\n",
              "maidens                       0\n",
              "dot_balls_as_bowler           0\n",
              "player_team                   0\n",
              "opposition_team               0\n",
              "name_y                        3\n",
              "unique_name                   3\n",
              "key_bcci                 379783\n",
              "key_bcci_2               415738\n",
              "key_bigbash              364352\n",
              "key_cricbuzz             412667\n",
              "key_cricheroes           415549\n",
              "key_crichq               416602\n",
              "key_cricinfo                115\n",
              "key_cricinfo_2           414773\n",
              "key_cricinfo_3           416696\n",
              "key_cricingif            387344\n",
              "key_cricketarchive       146822\n",
              "key_cricketarchive_2     416666\n",
              "key_cricketworld         410040\n",
              "key_nvplay               338276\n",
              "key_nvplay_2             414799\n",
              "key_opta                 410559\n",
              "key_opta_2               416607\n",
              "key_pulse                158764\n",
              "key_pulse_2              414770\n",
              "full_name                416712\n",
              "batting_style            416712\n",
              "bowling_style            416712\n",
              "playing_role             416712\n",
              "teams                       115\n",
              "fantasy_score_batting         0\n",
              "fantasy_score_bowling         0\n",
              "fantasy_score_total           0\n",
              "match_date                    0\n",
              "dtype: int64"
            ]
          },
          "execution_count": 8,
          "metadata": {},
          "output_type": "execute_result"
        }
      ],
      "source": [
        "df.isnull().sum()"
      ]
    },
    {
      "cell_type": "code",
      "execution_count": 9,
      "metadata": {
        "id": "jcqTZpFiNNDi"
      },
      "outputs": [],
      "source": [
        "data = df.copy()\n",
        "df= df.drop(columns=[\n",
        "    'gender','name_x', 'name_y','key_bcci', 'key_bcci_2', 'key_bigbash', 'key_cricbuzz', 'key_cricheroes','key_crichq', 'key_cricinfo', 'key_cricinfo_2', 'key_cricinfo_3','full_name',\n",
        "    'key_cricingif', 'key_cricketarchive', 'key_cricketarchive_2','key_cricketworld', 'key_nvplay', 'key_nvplay_2', 'key_opta', 'key_opta_2','key_pulse', 'key_pulse_2','batting_style', 'bowling_style','playing_role','teams'])"
      ]
    },
    {
      "cell_type": "code",
      "execution_count": 10,
      "metadata": {
        "colab": {
          "base_uri": "https://localhost:8080/"
        },
        "id": "E7IRNYlcQVvs",
        "outputId": "68fd5401-0d94-42c5-f8c5-5a870e31103c"
      },
      "outputs": [
        {
          "name": "stdout",
          "output_type": "stream",
          "text": [
            "<class 'pandas.core.frame.DataFrame'>\n",
            "Index: 416712 entries, 397451 to 238281\n",
            "Data columns (total 33 columns):\n",
            " #   Column                 Non-Null Count   Dtype         \n",
            "---  ------                 --------------   -----         \n",
            " 0   Unnamed: 0             416712 non-null  int64         \n",
            " 1   player_id              416712 non-null  object        \n",
            " 2   match_id               416712 non-null  object        \n",
            " 3   balls_per_over         416712 non-null  int64         \n",
            " 4   start_date             416712 non-null  object        \n",
            " 5   series_name            414752 non-null  object        \n",
            " 6   match_type             416712 non-null  object        \n",
            " 7   runs_scored            416712 non-null  int64         \n",
            " 8   player_out             416712 non-null  int64         \n",
            " 9   balls_faced            416712 non-null  int64         \n",
            " 10  fours_scored           416712 non-null  int64         \n",
            " 11  sixes_scored           416712 non-null  int64         \n",
            " 12  catches_taken          416712 non-null  int64         \n",
            " 13  run_out_direct         416712 non-null  int64         \n",
            " 14  run_out_throw          416712 non-null  int64         \n",
            " 15  stumpings_done         416712 non-null  int64         \n",
            " 16  out_kind               416712 non-null  object        \n",
            " 17  dot_balls_as_batsman   416712 non-null  int64         \n",
            " 18  order_seen             416712 non-null  int64         \n",
            " 19  balls_bowled           416712 non-null  int64         \n",
            " 20  runs_conceded          416712 non-null  int64         \n",
            " 21  wickets_taken          416712 non-null  int64         \n",
            " 22  bowled_done            416712 non-null  int64         \n",
            " 23  lbw_done               416712 non-null  int64         \n",
            " 24  maidens                416712 non-null  int64         \n",
            " 25  dot_balls_as_bowler    416712 non-null  int64         \n",
            " 26  player_team            416712 non-null  object        \n",
            " 27  opposition_team        416712 non-null  object        \n",
            " 28  unique_name            416709 non-null  object        \n",
            " 29  fantasy_score_batting  416712 non-null  int64         \n",
            " 30  fantasy_score_bowling  416712 non-null  int64         \n",
            " 31  fantasy_score_total    416712 non-null  int64         \n",
            " 32  match_date             416712 non-null  datetime64[ns]\n",
            "dtypes: datetime64[ns](1), int64(23), object(9)\n",
            "memory usage: 108.1+ MB\n"
          ]
        }
      ],
      "source": [
        "df.info()"
      ]
    },
    {
      "cell_type": "markdown",
      "metadata": {
        "id": "S-0_ykVWULva"
      },
      "source": [
        "# Feature Engineering"
      ]
    },
    {
      "cell_type": "code",
      "execution_count": 11,
      "metadata": {
        "id": "NoET2YqKR59V"
      },
      "outputs": [],
      "source": [
        "team_encoder = LabelEncoder()\n",
        "opp_encoder = LabelEncoder()\n",
        "matchtype_encoder = LabelEncoder()\n",
        "outkind_encoder = LabelEncoder()\n",
        "\n",
        "# Apply encodings\n",
        "df['player_team_enc'] = team_encoder.fit_transform(df['player_team'])\n",
        "df['opposition_team_enc'] = opp_encoder.fit_transform(df['opposition_team'])\n",
        "df['match_type_enc'] = matchtype_encoder.fit_transform(df['match_type'])\n",
        "df['out_kind_enc'] = outkind_encoder.fit_transform(df['out_kind'])"
      ]
    },
    {
      "cell_type": "markdown",
      "metadata": {
        "id": "myvLaQqnUUXj"
      },
      "source": [
        "Generating new features"
      ]
    },
    {
      "cell_type": "code",
      "execution_count": 12,
      "metadata": {
        "id": "FijaO5U4URjK"
      },
      "outputs": [],
      "source": [
        "# Batting Features\n",
        "df['boundary_runs'] = df['fours_scored'] * 4 + df['sixes_scored'] * 6\n",
        "df['boundary_ratio'] = df['boundary_runs'] / df['runs_scored'].replace(0, np.nan)\n",
        "df['run_per_match_avg'] = df.groupby('player_id')['runs_scored'].transform('mean')\n",
        "df['batting_consistency'] = df.groupby('player_id')['runs_scored'].transform(lambda x: x.rolling(window=3, min_periods=1).std())\n",
        "df['batting_strike_rate'] = df.apply(lambda row: (row['runs_scored'] / row['balls_faced']) * 100 if row['balls_faced'] > 0 else 0,axis=1)"
      ]
    },
    {
      "cell_type": "code",
      "execution_count": 13,
      "metadata": {
        "id": "bez3AXU6U1E6"
      },
      "outputs": [],
      "source": [
        "# Bowling Features\n",
        "df['bowling_pressure'] = df['dot_balls_as_bowler'] / df['balls_bowled'].replace(0, np.nan)\n",
        "df['wicket_efficiency'] = df['wickets_taken'] / df['balls_bowled'].replace(0, np.nan)\n",
        "df['bowling_economy'] = df.apply(lambda row: (row['runs_conceded'] / (row['balls_bowled'] / 6)) if row['balls_bowled'] > 0 else 0,axis=1)"
      ]
    },
    {
      "cell_type": "code",
      "execution_count": 14,
      "metadata": {
        "id": "dJi3D-YSVCuX"
      },
      "outputs": [],
      "source": [
        "df['fielding_contribution'] = df['catches_taken'] * 4 + (df['run_out_direct'] + df['run_out_throw']) * 3 + df['stumpings_done'] * 2\n",
        "df['impact_score'] = df['runs_scored'] * df['batting_strike_rate'] + df['wickets_taken'] * 20 + df['fielding_contribution'] * 10\n",
        "df['form_trend'] = df.groupby('player_id')['fantasy_score_total'].transform(lambda x: x.rolling(window=3, min_periods=1).mean())"
      ]
    },
    {
      "cell_type": "code",
      "execution_count": 15,
      "metadata": {
        "id": "TATVaxxHVJSz"
      },
      "outputs": [],
      "source": [
        "df.fillna(0, inplace=True)"
      ]
    },
    {
      "cell_type": "code",
      "execution_count": 16,
      "metadata": {
        "id": "qmlwU71kb3Rc"
      },
      "outputs": [],
      "source": [
        "# mapping of player_id to their last match date\n",
        "# This is done to avoid using retired players for the future match\n",
        "last_played_map = df.groupby(\"player_id\")[\"match_date\"].max().to_dict()\n",
        "df[\"last_active_date\"] = df[\"player_id\"].map(last_played_map)"
      ]
    },
    {
      "cell_type": "markdown",
      "metadata": {
        "id": "utkcVSrWVmOk"
      },
      "source": [
        "Finalizing the target and features"
      ]
    },
    {
      "cell_type": "code",
      "execution_count": 17,
      "metadata": {
        "id": "v0ymmQemVQpW"
      },
      "outputs": [],
      "source": [
        "drop_features = [\n",
        "    'player_id', 'match_id', 'start_date', 'match_date',\n",
        "    'series_name', 'match_type', 'player_team', 'out_kind',\n",
        "    'fantasy_score_batting', 'fantasy_score_bowling', 'unique_name'\n",
        "]\n",
        "\n",
        "x = df.drop(columns=drop_features + ['fantasy_score_total'])\n",
        "y = df['fantasy_score_total']"
      ]
    },
    {
      "cell_type": "markdown",
      "metadata": {
        "id": "x0tH6K3jWse4"
      },
      "source": [
        "Splitting the data into training and testing"
      ]
    },
    {
      "cell_type": "code",
      "execution_count": 18,
      "metadata": {
        "colab": {
          "base_uri": "https://localhost:8080/"
        },
        "id": "0g2DI_xYV5hP",
        "outputId": "dbd5b31c-d7af-4476-a9b8-452aa085f9c4"
      },
      "outputs": [
        {
          "name": "stdout",
          "output_type": "stream",
          "text": [
            "<class 'pandas.core.frame.DataFrame'>\n",
            "Index: 305151 entries, 397451 to 29558\n",
            "Data columns (total 37 columns):\n",
            " #   Column                 Non-Null Count   Dtype  \n",
            "---  ------                 --------------   -----  \n",
            " 0   Unnamed: 0             305151 non-null  int64  \n",
            " 1   balls_per_over         305151 non-null  int64  \n",
            " 2   runs_scored            305151 non-null  int64  \n",
            " 3   player_out             305151 non-null  int64  \n",
            " 4   balls_faced            305151 non-null  int64  \n",
            " 5   fours_scored           305151 non-null  int64  \n",
            " 6   sixes_scored           305151 non-null  int64  \n",
            " 7   catches_taken          305151 non-null  int64  \n",
            " 8   run_out_direct         305151 non-null  int64  \n",
            " 9   run_out_throw          305151 non-null  int64  \n",
            " 10  stumpings_done         305151 non-null  int64  \n",
            " 11  dot_balls_as_batsman   305151 non-null  int64  \n",
            " 12  order_seen             305151 non-null  int64  \n",
            " 13  balls_bowled           305151 non-null  int64  \n",
            " 14  runs_conceded          305151 non-null  int64  \n",
            " 15  wickets_taken          305151 non-null  int64  \n",
            " 16  bowled_done            305151 non-null  int64  \n",
            " 17  lbw_done               305151 non-null  int64  \n",
            " 18  maidens                305151 non-null  int64  \n",
            " 19  dot_balls_as_bowler    305151 non-null  int64  \n",
            " 20  fantasy_score_batting  305151 non-null  int64  \n",
            " 21  fantasy_score_bowling  305151 non-null  int64  \n",
            " 22  player_team_enc        305151 non-null  int32  \n",
            " 23  opposition_team_enc    305151 non-null  int32  \n",
            " 24  match_type_enc         305151 non-null  int32  \n",
            " 25  out_kind_enc           305151 non-null  int32  \n",
            " 26  boundary_runs          305151 non-null  int64  \n",
            " 27  boundary_ratio         305151 non-null  float64\n",
            " 28  run_per_match_avg      305151 non-null  float64\n",
            " 29  batting_consistency    305151 non-null  float64\n",
            " 30  batting_strike_rate    305151 non-null  float64\n",
            " 31  bowling_pressure       305151 non-null  float64\n",
            " 32  wicket_efficiency      305151 non-null  float64\n",
            " 33  bowling_economy        305151 non-null  float64\n",
            " 34  fielding_contribution  305151 non-null  int64  \n",
            " 35  impact_score           305151 non-null  float64\n",
            " 36  form_trend             305151 non-null  float64\n",
            "dtypes: float64(9), int32(4), int64(24)\n",
            "memory usage: 83.8 MB\n"
          ]
        }
      ],
      "source": [
        "train_df = df[df['match_date'].dt.year <= 2022]\n",
        "test_df = df[df['match_date'].dt.year > 2022]\n",
        "\n",
        "x_train = train_df.drop(columns=['fantasy_score_total'])\n",
        "y_train = train_df['fantasy_score_total']\n",
        "x_test = test_df.drop(columns=['fantasy_score_total'])\n",
        "y_test = test_df['fantasy_score_total']\n",
        "\n",
        "x_train = x_train.select_dtypes(include=[np.number])\n",
        "x_test = x_test.select_dtypes(include=[np.number])\n",
        "\n",
        "x_train.info()"
      ]
    },
    {
      "cell_type": "markdown",
      "metadata": {
        "id": "DPGNTcPlXv4c"
      },
      "source": [
        "Visualizing the samples we have on timeline"
      ]
    },
    {
      "cell_type": "code",
      "execution_count": 19,
      "metadata": {
        "colab": {
          "base_uri": "https://localhost:8080/",
          "height": 487
        },
        "id": "QyRDRWALXO0F",
        "outputId": "80627247-5dcc-45c6-efef-ed2eaeeb3c5a"
      },
      "outputs": [
        {
          "data": {
            "image/png": "[encoded data removed]",
            "text/plain": [
              "<Figure size 640x480 with 1 Axes>"
            ]
          },
          "metadata": {},
          "output_type": "display_data"
        }
      ],
      "source": [
        "df['year'] = df['match_date'].dt.year\n",
        "df['year'].value_counts().sort_index().plot(kind='bar', color='steelblue')\n",
        "plt.title(\"Sample count per year\")\n",
        "plt.xlabel(\"Year\")\n",
        "plt.ylabel(\"Samples\")\n",
        "plt.legend()\n",
        "plt.tight_layout()\n",
        "plt.show()"
      ]
    },
    {
      "cell_type": "markdown",
      "metadata": {
        "id": "ZmWS4YhyX_zV"
      },
      "source": [
        "# MODELS IMPLEMENTATION"
      ]
    },
    {
      "cell_type": "markdown",
      "metadata": {
        "id": "kqQkhlvAYKPu"
      },
      "source": [
        "## LINEAR REGRESSION"
      ]
    },
    {
      "cell_type": "code",
      "execution_count": 20,
      "metadata": {
        "colab": {
          "base_uri": "https://localhost:8080/"
        },
        "id": "FEkzI6lDYHJg",
        "outputId": "023692b0-1e88-42fc-b7bf-b68c601abf71"
      },
      "outputs": [
        {
          "name": "stdout",
          "output_type": "stream",
          "text": [
            "Mean Absolute Error: 0.5701647159710681\n",
            "Mean Squared Error: 1.0316209131657939\n",
            "R-squared: 0.9994042004787868\n"
          ]
        }
      ],
      "source": [
        "lr_model = LinearRegression()\n",
        "lr_model.fit(x_train, y_train)\n",
        "\n",
        "lr_predict = lr_model.predict(x_test)\n",
        "\n",
        "mae_lr = mean_absolute_error(y_test, lr_predict)\n",
        "mse_lr = mean_squared_error(y_test, lr_predict)\n",
        "r2_lr = r2_score(y_test, lr_predict)\n",
        "\n",
        "print(\"Mean Absolute Error:\", mae_lr)\n",
        "print(\"Mean Squared Error:\", mse_lr)\n",
        "print(\"R-squared:\", r2_lr)"
      ]
    },
    {
      "cell_type": "markdown",
      "metadata": {
        "id": "JC06eaYWZasQ"
      },
      "source": [
        "## DECISION TREE"
      ]
    },
    {
      "cell_type": "code",
      "execution_count": 21,
      "metadata": {
        "colab": {
          "base_uri": "https://localhost:8080/"
        },
        "id": "oW7gOiqaYuVw",
        "outputId": "d14acc1d-452d-4d9e-8f0a-7094face0a8a"
      },
      "outputs": [
        {
          "name": "stdout",
          "output_type": "stream",
          "text": [
            "Mean Absolute Error: 1.2893510656438125\n",
            "Mean Squared Error: 3.6630315419311956\n",
            "R-squared: 0.9978844627798651\n"
          ]
        }
      ],
      "source": [
        "dt_model = DecisionTreeRegressor(max_depth=10, random_state=42)\n",
        "dt_model.fit(x_train, y_train)\n",
        "\n",
        "dt_predict = dt_model.predict(x_test)\n",
        "\n",
        "mae_dt = mean_absolute_error(y_test, dt_predict)\n",
        "mse_dt = mean_squared_error(y_test, dt_predict)\n",
        "r2_dt = r2_score(y_test, dt_predict)\n",
        "\n",
        "print(\"Mean Absolute Error:\", mae_dt)\n",
        "print(\"Mean Squared Error:\", mse_dt)\n",
        "print(\"R-squared:\", r2_dt)"
      ]
    },
    {
      "cell_type": "markdown",
      "metadata": {
        "id": "nIvflvEPaEP6"
      },
      "source": [
        "## XGBOOST"
      ]
    },
    {
      "cell_type": "code",
      "execution_count": 22,
      "metadata": {
        "colab": {
          "base_uri": "https://localhost:8080/"
        },
        "id": "_O4TerVuaMo2",
        "outputId": "bccda249-c54f-430e-fd92-496b72f3b210"
      },
      "outputs": [
        {
          "name": "stdout",
          "output_type": "stream",
          "text": [
            "Mean Absolute Error: 0.22631390392780304\n",
            "Mean Squared Error: 0.4285660982131958\n",
            "R-squared: 0.9997524619102478\n"
          ]
        }
      ],
      "source": [
        "xgb_model = xgb.XGBRegressor(n_estimators=100, max_depth=8, learning_rate=0.1, random_state=42)\n",
        "xgb_model.fit(x_train, y_train)\n",
        "xgb_predict = xgb_model.predict(x_test)\n",
        "\n",
        "mae_xgb = mean_absolute_error(y_test, xgb_predict)\n",
        "mse_xgb = mean_squared_error(y_test, xgb_predict)\n",
        "r2_xgb = r2_score(y_test, xgb_predict)\n",
        "\n",
        "print(\"Mean Absolute Error:\", mae_xgb)\n",
        "print(\"Mean Squared Error:\", mse_xgb)\n",
        "print(\"R-squared:\", r2_xgb)"
      ]
    },
    {
      "cell_type": "code",
      "execution_count": 23,
      "metadata": {
        "id": "fIvJE-u07NSb"
      },
      "outputs": [],
      "source": [
        "import pickle\n",
        "\n",
        "with open(\"xgb_fantasy_model.pkl\", \"wb\") as f:\n",
        "    pickle.dump(xgb_model, f)\n"
      ]
    },
    {
      "cell_type": "code",
      "execution_count": 24,
      "metadata": {
        "colab": {
          "base_uri": "https://localhost:8080/",
          "height": 0
        },
        "id": "_Mn_FNlXZtUu",
        "outputId": "955b74a0-79d6-471a-9b53-672e47e13f53"
      },
      "outputs": [
        {
          "data": {
            "image/png": "[encoded data removed]",
            "text/plain": [
              "<Figure size 600x600 with 1 Axes>"
            ]
          },
          "metadata": {},
          "output_type": "display_data"
        }
      ],
      "source": [
        "plt.figure(figsize=(6, 6))\n",
        "plt.scatter(y_test, xgb_predict, alpha=0.4, color='teal')\n",
        "plt.plot([y_test.min(), y_test.max()], [y_test.min(), y_test.max()], 'r--')\n",
        "plt.xlabel(\"Actual Fantasy Score\")\n",
        "plt.ylabel(\"Predicted Fantasy Score\")\n",
        "plt.title(\"XGBoost: Actual vs Predicted\")\n",
        "plt.grid(True)\n",
        "plt.tight_layout()\n",
        "plt.show()"
      ]
    },
    {
      "cell_type": "markdown",
      "metadata": {
        "id": "4inFdJ0Lar_-"
      },
      "source": [
        "## SHAP Analysis"
      ]
    },
    {
      "cell_type": "code",
      "execution_count": 25,
      "metadata": {
        "id": "VDGgRwOn4nLU"
      },
      "outputs": [],
      "source": [
        "df['fielding_contribution'] *= 2\n",
        "df['wicket_efficiency'] *= 1.5\n"
      ]
    },
    {
      "cell_type": "code",
      "execution_count": 26,
      "metadata": {
        "colab": {
          "base_uri": "https://localhost:8080/",
          "height": 514
        },
        "id": "9vOqYLeQa57B",
        "outputId": "e1b48865-8f7e-4bac-c2fa-27bf88d9870a"
      },
      "outputs": [
        {
          "data": {
            "image/png": "[encoded data removed]",
            "text/plain": [
              "<Figure size 800x550 with 2 Axes>"
            ]
          },
          "metadata": {},
          "output_type": "display_data"
        }
      ],
      "source": [
        "x_shap_sample = x_test.sample(n=10000, random_state=42)\n",
        "\n",
        "explainer = shap.Explainer(xgb_model)\n",
        "shap_values = explainer(x_shap_sample)\n",
        "\n",
        "shap.plots.beeswarm(shap_values)\n"
      ]
    },
    {
      "cell_type": "markdown",
      "metadata": {
        "id": "SfdY1LG4ejCt"
      },
      "source": [
        "## PCA Implementation"
      ]
    },
    {
      "cell_type": "code",
      "execution_count": 27,
      "metadata": {
        "id": "UUABCDTgbtr3"
      },
      "outputs": [],
      "source": [
        "scaler = StandardScaler()\n",
        "x = x.select_dtypes(include=[np.number])\n",
        "x_scaled = scaler.fit_transform(x)\n",
        "\n",
        "pca = PCA(n_components=0.95, random_state=42)\n",
        "x_pca = pca.fit_transform(x_scaled)"
      ]
    },
    {
      "cell_type": "code",
      "execution_count": 28,
      "metadata": {
        "colab": {
          "base_uri": "https://localhost:8080/",
          "height": 410
        },
        "id": "DlPOuLsre7v5",
        "outputId": "c109dd6c-22a5-47f1-ee6b-b6067858afbd"
      },
      "outputs": [
        {
          "data": {
            "image/png": "[encoded data removed]",
            "text/plain": [
              "<Figure size 800x400 with 1 Axes>"
            ]
          },
          "metadata": {},
          "output_type": "display_data"
        }
      ],
      "source": [
        "plt.figure(figsize=(8, 4))\n",
        "plt.plot(np.cumsum(pca.explained_variance_ratio_), marker='o')\n",
        "plt.xlabel('Number of Components')\n",
        "plt.ylabel('Cumulative Explained Variance')\n",
        "plt.title('PCA Variance Plot')\n",
        "plt.grid(True)\n",
        "plt.show()"
      ]
    },
    {
      "cell_type": "markdown",
      "metadata": {
        "id": "NGEnok9RfGcA"
      },
      "source": [
        "Linear Regression after PCA"
      ]
    },
    {
      "cell_type": "code",
      "execution_count": 29,
      "metadata": {
        "colab": {
          "base_uri": "https://localhost:8080/"
        },
        "id": "nQQ_lGAVe-nn",
        "outputId": "a2cc95c9-2186-4239-9947-4a5778a13739"
      },
      "outputs": [
        {
          "name": "stdout",
          "output_type": "stream",
          "text": [
            "Mean Absolute Error: 5.853968231091891\n",
            "Mean Squared Error: 92.88674110812651\n",
            "R-squared: 0.946354445540024\n"
          ]
        }
      ],
      "source": [
        "x_train_pca = x_pca[df['match_date'].dt.year <= 2022]\n",
        "x_test_pca = x_pca[df['match_date'].dt.year > 2022]\n",
        "lr_after_pca = LinearRegression()\n",
        "lr_after_pca.fit(x_train_pca, y_train)\n",
        "\n",
        "lr_predict_after_pca = lr_after_pca.predict(x_test_pca)\n",
        "\n",
        "mae_lr_after_pca = mean_absolute_error(y_test, lr_predict_after_pca)\n",
        "mse_lr_after_pca = mean_squared_error(y_test, lr_predict_after_pca)\n",
        "r2_lr_after_pca = r2_score(y_test, lr_predict_after_pca)\n",
        "\n",
        "print(\"Mean Absolute Error:\", mae_lr_after_pca)\n",
        "print(\"Mean Squared Error:\", mse_lr_after_pca)\n",
        "print(\"R-squared:\", r2_lr_after_pca)"
      ]
    },
    {
      "cell_type": "markdown",
      "metadata": {
        "id": "OjQCVApS7onX"
      },
      "source": [
        "## Inference Pipeline"
      ]
    },
    {
      "cell_type": "code",
      "execution_count": 30,
      "metadata": {
        "id": "95YcfNFhf72B"
      },
      "outputs": [],
      "source": [
        "with open(\"xgb_fantasy_model.pkl\", \"rb\") as f:\n",
        "    xgb_model = pickle.load(f)"
      ]
    },
    {
      "cell_type": "code",
      "execution_count": 31,
      "metadata": {
        "colab": {
          "base_uri": "https://localhost:8080/",
          "height": 394
        },
        "id": "OzwAx748736g",
        "outputId": "987bd9c3-2cd5-474d-8378-f9883a97b00e"
      },
      "outputs": [
        {
          "data": {
            "text/html": [
              "<div>\n",
              "<style scoped>\n",
              "    .dataframe tbody tr th:only-of-type {\n",
              "        vertical-align: middle;\n",
              "    }\n",
              "\n",
              "    .dataframe tbody tr th {\n",
              "        vertical-align: top;\n",
              "    }\n",
              "\n",
              "    .dataframe thead th {\n",
              "        text-align: right;\n",
              "    }\n",
              "</style>\n",
              "<table border=\"1\" class=\"dataframe\">\n",
              "  <thead>\n",
              "    <tr style=\"text-align: right;\">\n",
              "      <th></th>\n",
              "      <th>player_id</th>\n",
              "      <th>unique_name</th>\n",
              "      <th>player_team</th>\n",
              "      <th>predicted_score</th>\n",
              "      <th>fantasy_score_total</th>\n",
              "    </tr>\n",
              "  </thead>\n",
              "  <tbody>\n",
              "    <tr>\n",
              "      <th>362368</th>\n",
              "      <td>dfdaca74</td>\n",
              "      <td>RC Belbashi</td>\n",
              "      <td>Barmy Army</td>\n",
              "      <td>185.312744</td>\n",
              "      <td>187</td>\n",
              "    </tr>\n",
              "    <tr>\n",
              "      <th>112857</th>\n",
              "      <td>495d42a5</td>\n",
              "      <td>R Ashwin</td>\n",
              "      <td>Rajasthan Royals</td>\n",
              "      <td>113.083984</td>\n",
              "      <td>113</td>\n",
              "    </tr>\n",
              "    <tr>\n",
              "      <th>241371</th>\n",
              "      <td>99b75528</td>\n",
              "      <td>JC Buttler</td>\n",
              "      <td>Rajasthan Royals</td>\n",
              "      <td>72.577271</td>\n",
              "      <td>73</td>\n",
              "    </tr>\n",
              "    <tr>\n",
              "      <th>266121</th>\n",
              "      <td>a7cd72b2</td>\n",
              "      <td>SA Campbelle</td>\n",
              "      <td>Barmy Army</td>\n",
              "      <td>71.191635</td>\n",
              "      <td>71</td>\n",
              "    </tr>\n",
              "    <tr>\n",
              "      <th>22993</th>\n",
              "      <td>106135f5</td>\n",
              "      <td>Ruchitha Venkatesh</td>\n",
              "      <td>Barmy Army</td>\n",
              "      <td>68.043144</td>\n",
              "      <td>68</td>\n",
              "    </tr>\n",
              "    <tr>\n",
              "      <th>114759</th>\n",
              "      <td>4a8a2e3b</td>\n",
              "      <td>MS Dhoni</td>\n",
              "      <td>Chennai Super Kings</td>\n",
              "      <td>56.941605</td>\n",
              "      <td>57</td>\n",
              "    </tr>\n",
              "    <tr>\n",
              "      <th>109222</th>\n",
              "      <td>46a9bea1</td>\n",
              "      <td>TU Deshpande</td>\n",
              "      <td>Chennai Super Kings</td>\n",
              "      <td>53.948421</td>\n",
              "      <td>54</td>\n",
              "    </tr>\n",
              "    <tr>\n",
              "      <th>289259</th>\n",
              "      <td>b483905d</td>\n",
              "      <td>Akash Singh</td>\n",
              "      <td>Chennai Super Kings</td>\n",
              "      <td>53.948421</td>\n",
              "      <td>54</td>\n",
              "    </tr>\n",
              "    <tr>\n",
              "      <th>66623</th>\n",
              "      <td>2c25d4f5</td>\n",
              "      <td>D Padikkal</td>\n",
              "      <td>Rajasthan Royals</td>\n",
              "      <td>52.940598</td>\n",
              "      <td>53</td>\n",
              "    </tr>\n",
              "    <tr>\n",
              "      <th>352299</th>\n",
              "      <td>d945db3e</td>\n",
              "      <td>NH Patel</td>\n",
              "      <td>Spirit</td>\n",
              "      <td>52.252716</td>\n",
              "      <td>52</td>\n",
              "    </tr>\n",
              "    <tr>\n",
              "      <th>302046</th>\n",
              "      <td>bb351c23</td>\n",
              "      <td>MM Ali</td>\n",
              "      <td>Chennai Super Kings</td>\n",
              "      <td>40.076794</td>\n",
              "      <td>40</td>\n",
              "    </tr>\n",
              "  </tbody>\n",
              "</table>\n",
              "</div>"
            ],
            "text/plain": [
              "       player_id         unique_name          player_team  predicted_score  \\\n",
              "362368  dfdaca74         RC Belbashi           Barmy Army       185.312744   \n",
              "112857  495d42a5            R Ashwin     Rajasthan Royals       113.083984   \n",
              "241371  99b75528          JC Buttler     Rajasthan Royals        72.577271   \n",
              "266121  a7cd72b2        SA Campbelle           Barmy Army        71.191635   \n",
              "22993   106135f5  Ruchitha Venkatesh           Barmy Army        68.043144   \n",
              "114759  4a8a2e3b            MS Dhoni  Chennai Super Kings        56.941605   \n",
              "109222  46a9bea1        TU Deshpande  Chennai Super Kings        53.948421   \n",
              "289259  b483905d         Akash Singh  Chennai Super Kings        53.948421   \n",
              "66623   2c25d4f5          D Padikkal     Rajasthan Royals        52.940598   \n",
              "352299  d945db3e            NH Patel               Spirit        52.252716   \n",
              "302046  bb351c23              MM Ali  Chennai Super Kings        40.076794   \n",
              "\n",
              "        fantasy_score_total  \n",
              "362368                  187  \n",
              "112857                  113  \n",
              "241371                   73  \n",
              "266121                   71  \n",
              "22993                    68  \n",
              "114759                   57  \n",
              "109222                   54  \n",
              "289259                   54  \n",
              "66623                    53  \n",
              "352299                   52  \n",
              "302046                   40  "
            ]
          },
          "execution_count": 31,
          "metadata": {},
          "output_type": "execute_result"
        }
      ],
      "source": [
        "\n",
        "# Inference Function\n",
        "def predict_top11_players(player_ids, match_date_str):\n",
        "    match_date = pd.to_datetime(match_date_str)\n",
        "\n",
        "    # Filter relevant rows from full dataframe\n",
        "    player_df = df[\n",
        "        (df[\"player_id\"].isin(player_ids)) &\n",
        "        (df[\"match_date\"] < match_date)  # ensure training happens before prediction date (no forward bias)\n",
        "    ]\n",
        "    # Only include players who have played within the last 2 years before the match\n",
        "    recency_cutoff = match_date - pd.Timedelta(days=730)\n",
        "    player_df = player_df[player_df[\"last_active_date\"] > recency_cutoff]\n",
        "    # Use the most recent performance for each player\n",
        "    player_df = player_df.sort_values(by=\"match_date\").groupby(\"player_id\").tail(1)\n",
        "\n",
        "\n",
        "\n",
        "\n",
        "    # Preserve metadata\n",
        "    meta_cols = [\"player_id\",\"unique_name\",\"player_team\", \"fantasy_score_total\"]\n",
        "\n",
        "    X_input = player_df.drop(columns=[\"fantasy_score_total\", \"player_id\",\"unique_name\", \"player_team\",\"match_id\", \"match_date\"], errors=\"ignore\")\n",
        "    X_input = X_input.select_dtypes(include=[np.number])\n",
        "\n",
        "    # Fix for feature mismatch\n",
        "    model_features = xgb_model.get_booster().feature_names\n",
        "    for col in model_features:\n",
        "        if col not in X_input.columns:\n",
        "            X_input[col] = 0\n",
        "    X_input = X_input[model_features]  # reorder\n",
        "\n",
        "    # Predict\n",
        "    predictions = xgb_model.predict(X_input)\n",
        "\n",
        "\n",
        "    # Final output\n",
        "    result = player_df[meta_cols].copy()\n",
        "    result[\"predicted_score\"] = predictions\n",
        "    result = result.sort_values(by=\"predicted_score\", ascending=False).head(11)\n",
        "\n",
        "    return result[[\"player_id\",\"unique_name\", \"player_team\", \"predicted_score\", \"fantasy_score_total\"]]\n",
        "\n",
        "#  Example usage\n",
        "match_date = pd.to_datetime(\"2023-04-15\")\n",
        "\n",
        "# Get 22 players who actually played close to this date (say ±3 days)\n",
        "window_df = df[(df[\"match_date\"] >= match_date - pd.Timedelta(days=3)) &(df[\"match_date\"] <= match_date + pd.Timedelta(days=3))]\n",
        "\n",
        "sample_player_ids = (window_df[\"player_id\"].dropna().unique()[:22].tolist())\n",
        "\n",
        "match_date = \"2023-04-15\"\n",
        "\n",
        "top_11_df = predict_top11_players(sample_player_ids, match_date)\n",
        "top_11_df\n"
      ]
    },
    {
      "cell_type": "code",
      "execution_count": 32,
      "metadata": {
        "colab": {
          "base_uri": "https://localhost:8080/"
        },
        "id": "soFvXmErMSOF",
        "outputId": "104e1531-8cce-4fc3-93b3-fdcc33de3b8f"
      },
      "outputs": [
        {
          "name": "stdout",
          "output_type": "stream",
          "text": [
            "Multiple matches on this date. Picking the first one.\n",
            "dcce6f09, 3a60e0b5, 3355b542, c8f5f961, 8b3e9c7c, b681e71e, 2f49c897, f986ca1a, c03f1114, 54e52590, dd7e9b3b, 93b4fc78, 0a8fce53, f9e6e7ef, ba607b88, acdc62f5, a97c8ec2, 8d2c70ad, 3d8feaf8, ad3b6e95, ad427b5c, da934ee8\n"
          ]
        }
      ],
      "source": [
        "# sampling based on actual match_id\n",
        "match_date = pd.to_datetime(\"2023-04-15\")\n",
        "\n",
        "# Find the match_id played on this exact date\n",
        "match_ids_on_date = df[df[\"match_date\"] == match_date][\"match_id\"].unique()\n",
        "\n",
        "if len(match_ids_on_date) == 0:\n",
        "    raise ValueError(\"No match found on this date in the dataset.\")\n",
        "elif len(match_ids_on_date) > 1:\n",
        "    print(\"Multiple matches on this date. Picking the first one.\")\n",
        "\n",
        "actual_match_id = match_ids_on_date[0]\n",
        "\n",
        "# Get the actual 22 player IDs who played in that match\n",
        "sample_ids = df[df[\"match_id\"] == actual_match_id][\"player_id\"].dropna().unique()\n",
        "\n",
        "# Convert to comma-separated string for Gradio input\n",
        "input_string = \", \".join(sample_ids[:22])\n",
        "print( input_string)"
      ]
    },
    {
      "cell_type": "code",
      "execution_count": 33,
      "metadata": {
        "id": "eeg4I0Id8LyX"
      },
      "outputs": [],
      "source": [
        "with open(\"xgb_fantasy_model.pkl\", \"rb\") as f:\n",
        "    xgb_model = pickle.load(f)"
      ]
    },
    {
      "cell_type": "code",
      "execution_count": 34,
      "metadata": {
        "id": "kBPvzrg9LOkp"
      },
      "outputs": [],
      "source": [
        "def predict_top11_interface(player_ids_str, match_date_str):\n",
        "    try:\n",
        "        player_ids = [pid.strip() for pid in player_ids_str.split(\",\")]\n",
        "        result = predict_top11_players(player_ids, match_date_str)\n",
        "\n",
        "        if result.empty:\n",
        "            return pd.DataFrame(columns=[\"unique_name\", \"player_id\", \"player_team\", \"predicted_score\", \"fantasy_score_total\"])\n",
        "\n",
        "        return result[[\"unique_name\", \"player_id\", \"player_team\", \"predicted_score\", \"fantasy_score_total\"]]\n",
        "\n",
        "    except Exception as e:\n",
        "        return pd.DataFrame({\"Error\": [str(e)]})\n"
      ]
    },
    {
      "cell_type": "code",
      "execution_count": 35,
      "metadata": {
        "colab": {
          "base_uri": "https://localhost:8080/",
          "height": 645
        },
        "id": "-QB8WswELRbs",
        "outputId": "f1147f18-424f-47ef-967a-c192916f2ef8"
      },
      "outputs": [
        {
          "name": "stdout",
          "output_type": "stream",
          "text": [
            "* Running on local URL:  http://127.0.0.1:7860\n",
            "* To create a public link, set `share=True` in `launch()`.\n"
          ]
        },
        {
          "data": {
            "text/html": [
              "<div><iframe src=\"http://127.0.0.1:7860/\" width=\"100%\" height=\"500\" allow=\"autoplay; camera; microphone; clipboard-read; clipboard-write;\" frameborder=\"0\" allowfullscreen></iframe></div>"
            ],
            "text/plain": [
              "<IPython.core.display.HTML object>"
            ]
          },
          "metadata": {},
          "output_type": "display_data"
        },
        {
          "data": {
            "text/plain": []
          },
          "execution_count": 35,
          "metadata": {},
          "output_type": "execute_result"
        }
      ],
      "source": [
        "gr.Interface(\n",
        "    fn=predict_top11_interface,\n",
        "    inputs=[\n",
        "        gr.Textbox(label=\"Enter 22 Player IDs (comma-separated)\", lines=2, placeholder=\"e.g. 0c2730df, 8fb88e, ...\"),\n",
        "        gr.Textbox(label=\"Match Date (YYYY-MM-DD)\", placeholder=\"e.g. 2023-04-15\")\n",
        "    ],\n",
        "    outputs=gr.Dataframe(headers=[\"Name\", \"Player ID\", \"Team\", \"Predicted Points\", \"Actual Points\"]),\n",
        "    title=\" Fantasy Team Selector\",\n",
        "    description=\"Enter 22 player IDs, enter match date, and get the predicted best XI with fantasy points in tabular form.\"\n",
        ").launch()\n"
      ]
    },
    {
      "cell_type": "code",
      "execution_count": 36,
      "metadata": {
        "colab": {
          "base_uri": "https://localhost:8080/"
        },
        "id": "Ci9p68MCLT_i",
        "outputId": "4a7e1a18-826a-4605-d6f7-3ca21c67610a"
      },
      "outputs": [
        {
          "data": {
            "text/plain": [
              "array(['1359494', '1366030', '1366031', '1339615', '1359495'],\n",
              "      dtype=object)"
            ]
          },
          "execution_count": 36,
          "metadata": {},
          "output_type": "execute_result"
        }
      ],
      "source": [
        "match_date = pd.to_datetime(\"2023-04-15\")\n",
        "df[df[\"match_date\"] == match_date][\"match_id\"].unique()\n",
        "\n"
      ]
    },
    {
      "cell_type": "markdown",
      "metadata": {
        "id": "iAq5rvdvYxjl"
      },
      "source": [
        "## Implementation of Reinforcement Learning\n"
      ]
    },
    {
      "cell_type": "code",
      "execution_count": 37,
      "metadata": {
        "id": "IumIX5lIcoD_"
      },
      "outputs": [],
      "source": [
        "if 'credit' not in df.columns:\n",
        "    df['credit'] = 8.0 + (df['fantasy_score_total'] / df['fantasy_score_total'].max()) * 3  # dummy logic\n"
      ]
    },
    {
      "cell_type": "code",
      "execution_count": 38,
      "metadata": {
        "id": "h-iSXkSQdI57"
      },
      "outputs": [],
      "source": [
        "# Generate recent form: rolling average of fantasy score (last 3 matches per player)\n",
        "df['match_date'] = pd.to_datetime(df['match_date'])  # ensure correct dtype\n",
        "\n",
        "df.sort_values(by=['player_id', 'match_date'], inplace=True)\n",
        "df['recent_form'] = df.groupby('player_id')['fantasy_score_total'].transform(lambda x: x.shift(1).rolling(3, min_periods=1).mean())\n",
        "df['recent_form'].fillna(df['fantasy_score_total'].mean(), inplace=True)\n"
      ]
    },
    {
      "cell_type": "code",
      "execution_count": 39,
      "metadata": {
        "id": "Z88XTdPHIus0"
      },
      "outputs": [],
      "source": [
        "if df['match_date'].dtype != 'datetime64[ns]':\n",
        "    df['match_date'] = pd.to_datetime(df['match_date'])"
      ]
    },
    {
      "cell_type": "code",
      "execution_count": 40,
      "metadata": {
        "id": "OY406GHqcMXU"
      },
      "outputs": [],
      "source": [
        "# Generating recent_form\n",
        "if 'recent_form' not in df.columns:\n",
        "    df.sort_values(by=['player_id', 'match_date'], inplace=True)\n",
        "    df['recent_form'] = df.groupby('player_id')['fantasy_score_total'].transform(lambda x: x.shift(1).rolling(3, min_periods=1).mean())\n",
        "    df['recent_form'].fillna(df['fantasy_score_total'].mean(), inplace=True)"
      ]
    },
    {
      "cell_type": "code",
      "execution_count": 41,
      "metadata": {
        "id": "1ytGWH6HgftS"
      },
      "outputs": [],
      "source": [
        "def assign_role(row):\n",
        "    if row['stumpings_done'] > 0:\n",
        "        return 'WK'\n",
        "    elif row['fantasy_score_batting'] >= 1.3 * row['fantasy_score_bowling']:\n",
        "        return 'BAT'\n",
        "    elif row['fantasy_score_bowling'] >= 1.3 * row['fantasy_score_batting']:\n",
        "        return 'BWL'\n",
        "    else:\n",
        "        return 'AR'\n",
        "\n",
        "role_map = {'WK': 3, 'BAT': 1, 'BWL': 0, 'AR': 2}\n",
        "df['role'] = df.apply(assign_role, axis=1)\n",
        "df['position'] = df['role'].map(role_map)"
      ]
    },
    {
      "cell_type": "code",
      "execution_count": 42,
      "metadata": {
        "colab": {
          "base_uri": "https://localhost:8080/"
        },
        "id": "oiFfk_oxgm6Z",
        "outputId": "06168a80-850a-4c66-97b2-c0cecccfc758"
      },
      "outputs": [
        {
          "name": "stdout",
          "output_type": "stream",
          "text": [
            "Multiple matches on this date. Picking the first one.\n"
          ]
        }
      ],
      "source": [
        "match_date = pd.to_datetime(\"2023-04-15\")\n",
        "match_ids_on_date = df[df[\"match_date\"] == match_date][\"match_id\"].unique()\n",
        "\n",
        "if len(match_ids_on_date) == 0:\n",
        "    raise ValueError(\"No match found on this date in the dataset.\")\n",
        "elif len(match_ids_on_date) > 1:\n",
        "    print(\"Multiple matches on this date. Picking the first one.\")\n",
        "\n",
        "actual_match_id = match_ids_on_date[1]\n",
        "match_df = df[df['match_id'] == actual_match_id].copy()"
      ]
    },
    {
      "cell_type": "code",
      "execution_count": 43,
      "metadata": {
        "colab": {
          "base_uri": "https://localhost:8080/"
        },
        "id": "ZNKGe3gDgwuN",
        "outputId": "d3feaa5d-e172-40b2-8375-c5fb7807f928"
      },
      "outputs": [
        {
          "name": "stdout",
          "output_type": "stream",
          "text": [
            " Using match_id 1359494 with 22 players\n"
          ]
        }
      ],
      "source": [
        "# Taking latest stat per player (avoiding duplicates)\n",
        "player_pool = match_df.groupby('player_id').last().reset_index()\n",
        "assert len(player_pool) >= 22, f\"Match has insufficient players: {len(player_pool)}\"\n",
        "player_pool = player_pool.head(22).reset_index(drop=True)\n",
        "print(f\" Using match_id {actual_match_id} with {len(player_pool)} players\")"
      ]
    },
    {
      "cell_type": "code",
      "execution_count": 44,
      "metadata": {
        "id": "iAM_8ZybhDPP"
      },
      "outputs": [],
      "source": [
        "class Dream11Env:\n",
        "    def __init__(self, player_pool_df, max_team_size=11, max_budget=100, max_players_per_team=7):\n",
        "        self.original_df = player_pool_df.reset_index(drop=True)\n",
        "        self.max_team_size = max_team_size\n",
        "        self.max_budget = max_budget\n",
        "        self.max_players_per_team = max_players_per_team\n",
        "        self.reset()\n",
        "\n",
        "    def reset(self):\n",
        "        self.players_df = self.original_df.copy().reset_index(drop=True)\n",
        "        self.selected_players = []\n",
        "        self.selected_ids = set()\n",
        "        self.budget_used = 0\n",
        "        self.team_counts = {}\n",
        "        self.role_counts = {0:0, 1:0, 2:0, 3:0}  # BWL, BAT, AR, WK\n",
        "        self.done = False\n",
        "        return self._get_state()\n",
        "\n",
        "    def _get_state(self):\n",
        "        state = []\n",
        "        for idx, row in self.players_df.iterrows():\n",
        "            if idx in self.selected_ids:\n",
        "                state.append(np.zeros(self._feature_dim()))\n",
        "            else:\n",
        "                state.append(self._extract_features(row))\n",
        "        return np.array(state, dtype=np.float32)\n",
        "\n",
        "    def _feature_dim(self):\n",
        "        return 5\n",
        "\n",
        "    def _extract_features(self, row):\n",
        "        return np.array([\n",
        "            row['credit'],\n",
        "            row['recent_form'],\n",
        "            row['fantasy_score_total'],\n",
        "            1.0 if row.name in self.selected_ids else 0.0,\n",
        "            row['position']\n",
        "        ])\n",
        "\n",
        "    def get_action_space(self):\n",
        "        return [i for i in range(len(self.players_df)) if i not in self.selected_ids]\n",
        "\n",
        "    def step(self, action_idx):\n",
        "        if action_idx in self.selected_ids or self.done:\n",
        "            return self._get_state(), -100.0, True, {}\n",
        "\n",
        "        player = self.players_df.iloc[action_idx]\n",
        "        self.selected_players.append(player)\n",
        "        self.selected_ids.add(action_idx)\n",
        "        self.budget_used += player['credit']\n",
        "        team = player['player_team']\n",
        "        self.team_counts[team] = self.team_counts.get(team, 0) + 1\n",
        "        self.role_counts[player['position']] += 1\n",
        "\n",
        "        if len(self.selected_players) == self.max_team_size:\n",
        "            self.done = True\n",
        "            total_points = sum(p['fantasy_score_total'] for p in self.selected_players)\n",
        "\n",
        "            penalty = 0\n",
        "            if self.budget_used > self.max_budget:\n",
        "                penalty -= 50\n",
        "            if any(count > self.max_players_per_team for count in self.team_counts.values()):\n",
        "                penalty -= 50\n",
        "\n",
        "            # ✅ New check: must include at least 1 of each role\n",
        "            if any(count == 0 for count in self.role_counts.values()):\n",
        "                penalty -= 50\n",
        "\n",
        "            return self._get_state(), total_points + penalty, self.done, {}\n",
        "        else:\n",
        "            return self._get_state(), 0.0, self.done, {}"
      ]
    },
    {
      "cell_type": "code",
      "execution_count": 45,
      "metadata": {
        "id": "TgVHhHndhLqe"
      },
      "outputs": [],
      "source": [
        "class DQNetwork(nn.Module):\n",
        "    def __init__(self, input_dim=5, num_players=22, hidden_dim=64):\n",
        "        super(DQNetwork, self).__init__()\n",
        "        self.fc = nn.Sequential(\n",
        "            nn.Flatten(),\n",
        "            nn.Linear(num_players * input_dim, hidden_dim),\n",
        "            nn.ReLU(),\n",
        "            nn.Linear(hidden_dim, num_players)\n",
        "        )\n",
        "\n",
        "    def forward(self, x):\n",
        "        return self.fc(x)"
      ]
    },
    {
      "cell_type": "code",
      "execution_count": 46,
      "metadata": {
        "id": "KbcrUX2jhKcr"
      },
      "outputs": [],
      "source": [
        "class DQNAgent:\n",
        "    def __init__(self, lr=1e-3, gamma=0.99, epsilon=1.0, epsilon_min=0.1, decay=0.995):\n",
        "        self.model = DQNetwork()\n",
        "        self.target_model = DQNetwork()\n",
        "        self.optimizer = optim.Adam(self.model.parameters(), lr=lr)\n",
        "        self.loss_fn = nn.MSELoss()\n",
        "        self.gamma = gamma\n",
        "        self.epsilon = epsilon\n",
        "        self.epsilon_min = epsilon_min\n",
        "        self.decay = decay\n",
        "        self.memory = deque(maxlen=10000)\n",
        "        self.batch_size = 64\n",
        "        self.update_target()\n",
        "\n",
        "    def update_target(self):\n",
        "        self.target_model.load_state_dict(self.model.state_dict())\n",
        "\n",
        "    def act(self, state, valid_actions):\n",
        "        if np.random.rand() < self.epsilon:\n",
        "            return random.choice(valid_actions)\n",
        "        state = torch.tensor(state, dtype=torch.float32).unsqueeze(0)\n",
        "        q_values = self.model(state).detach().numpy().flatten()\n",
        "        q_values = [(idx, q_values[idx]) for idx in valid_actions]\n",
        "        return max(q_values, key=lambda x: x[1])[0]\n",
        "\n",
        "    def remember(self, s, a, r, s_, done):\n",
        "        self.memory.append((s, a, r, s_, done))\n",
        "\n",
        "    def train(self):\n",
        "        if len(self.memory) < self.batch_size:\n",
        "            return\n",
        "        batch = random.sample(self.memory, self.batch_size)\n",
        "        s_batch, a_batch, r_batch, s2_batch, d_batch = zip(*batch)\n",
        "\n",
        "        s_batch = torch.tensor(np.array(s_batch), dtype=torch.float32)\n",
        "        s2_batch = torch.tensor(np.array(s2_batch), dtype=torch.float32)\n",
        "        a_batch = torch.tensor(a_batch, dtype=torch.int64)\n",
        "        r_batch = torch.tensor(r_batch, dtype=torch.float32)\n",
        "        d_batch = torch.tensor(d_batch, dtype=torch.float32)\n",
        "\n",
        "        q_values = self.model(s_batch)\n",
        "        next_q = self.target_model(s2_batch).detach().max(1)[0]\n",
        "        target = q_values.clone()\n",
        "        for i in range(self.batch_size):\n",
        "            target[i, a_batch[i]] = r_batch[i] + self.gamma * next_q[i] * (1 - d_batch[i])\n",
        "\n",
        "        loss = self.loss_fn(q_values, target)\n",
        "        self.optimizer.zero_grad()\n",
        "        loss.backward()\n",
        "        self.optimizer.step()\n",
        "\n",
        "        self.epsilon = max(self.epsilon_min, self.epsilon * self.decay)"
      ]
    },
    {
      "cell_type": "code",
      "execution_count": 47,
      "metadata": {
        "colab": {
          "base_uri": "https://localhost:8080/"
        },
        "id": "A16fzJw_hSUI",
        "outputId": "5981c92b-4226-4f4d-bcff-295ccf60fd0d"
      },
      "outputs": [
        {
          "name": "stdout",
          "output_type": "stream",
          "text": [
            "Episode 50: Total Reward = 386.00, Epsilon = 0.798\n",
            "Episode 100: Total Reward = 378.00, Epsilon = 0.621\n",
            "Episode 150: Total Reward = 412.00, Epsilon = 0.483\n",
            "Episode 200: Total Reward = 408.00, Epsilon = 0.376\n",
            "Episode 250: Total Reward = 293.00, Epsilon = 0.293\n",
            "Episode 300: Total Reward = 326.00, Epsilon = 0.228\n",
            "Episode 350: Total Reward = 364.00, Epsilon = 0.177\n",
            "Episode 400: Total Reward = 453.00, Epsilon = 0.138\n",
            "Episode 450: Total Reward = 404.00, Epsilon = 0.107\n",
            "Episode 500: Total Reward = 523.00, Epsilon = 0.100\n"
          ]
        }
      ],
      "source": [
        "env = Dream11Env(player_pool)\n",
        "agent = DQNAgent()\n",
        "reward_history = []\n",
        "num_episodes = 500\n",
        "\n",
        "for episode in range(num_episodes):\n",
        "    state = env.reset()\n",
        "    total_reward = 0\n",
        "\n",
        "    for _ in range(11):\n",
        "        valid_actions = env.get_action_space()\n",
        "        action = agent.act(state, valid_actions)\n",
        "        next_state, reward, done, _ = env.step(action)\n",
        "        agent.remember(state, action, reward, next_state, done)\n",
        "        state = next_state\n",
        "        total_reward += reward\n",
        "        if done:\n",
        "            break\n",
        "\n",
        "    agent.train()\n",
        "    if episode % 20 == 0:\n",
        "        agent.update_target()\n",
        "\n",
        "    reward_history.append(total_reward)\n",
        "    if (episode + 1) % 50 == 0:\n",
        "        print(f\"Episode {episode+1}: Total Reward = {total_reward:.2f}, Epsilon = {agent.epsilon:.3f}\")"
      ]
    },
    {
      "cell_type": "code",
      "execution_count": 48,
      "metadata": {
        "colab": {
          "base_uri": "https://localhost:8080/",
          "height": 958
        },
        "id": "jtdc8Rm0hXUC",
        "outputId": "20f47135-f6b0-4171-b324-2ed1da1388d5"
      },
      "outputs": [
        {
          "name": "stdout",
          "output_type": "stream",
          "text": [
            "\n",
            " Final Selected Team:\n",
            "\n",
            "          unique_name                  player_team    credit  \\\n",
            "19          MK Lomror  Royal Challengers Bangalore  8.196364   \n",
            "17         KD Karthik  Royal Challengers Bangalore  8.010909   \n",
            "16            V Kohli  Royal Challengers Bangalore  8.545455   \n",
            "10          MK Pandey               Delhi Capitals  8.376364   \n",
            "7   Vijaykumar Vyshak  Royal Challengers Bangalore  8.474545   \n",
            "9       Kuldeep Yadav               Delhi Capitals  8.349091   \n",
            "12           A Nortje               Delhi Capitals  8.190909   \n",
            "2      Mohammed Siraj  Royal Challengers Bangalore  8.403636   \n",
            "6            MR Marsh               Delhi Capitals  8.283636   \n",
            "14        Lalit Yadav               Delhi Capitals  8.223636   \n",
            "21           YV Dhull               Delhi Capitals  8.070909   \n",
            "\n",
            "    fantasy_score_total  recent_form  position  \n",
            "19                   36    32.666667         1  \n",
            "17                    2    20.333333         0  \n",
            "16                  100    84.333333         1  \n",
            "10                   69    37.000000         1  \n",
            "7                    87     2.000000         0  \n",
            "9                    64    15.666667         0  \n",
            "12                   35    31.000000         1  \n",
            "2                    74    52.333333         0  \n",
            "6                    52    35.666667         0  \n",
            "14                   41    34.666667         0  \n",
            "21                   13    41.333333         0  \n"
          ]
        },
        {
          "data": {
            "image/png": "[encoded data removed]",
            "text/plain": [
              "<Figure size 640x480 with 1 Axes>"
            ]
          },
          "metadata": {},
          "output_type": "display_data"
        }
      ],
      "source": [
        "state = env.reset()\n",
        "final_team = []\n",
        "\n",
        "for _ in range(11):\n",
        "    valid_actions = env.get_action_space()\n",
        "    action = agent.act(state, valid_actions)\n",
        "    state, _, done, _ = env.step(action)\n",
        "    final_team.append(action)\n",
        "    if done:\n",
        "        break\n",
        "\n",
        "print(\"\\n Final Selected Team:\\n\")\n",
        "print(env.players_df.iloc[final_team][['unique_name', 'player_team', 'credit', 'fantasy_score_total', 'recent_form', 'position']])\n",
        "\n",
        "plt.plot(reward_history)\n",
        "plt.xlabel(\"Episode\")\n",
        "plt.ylabel(\"Cumulative Reward\")\n",
        "plt.title(\"Training Progress\")\n",
        "plt.show()"
      ]
    }
  ],
  "metadata": {
    "colab": {
      "provenance": []
    },
    "kernelspec": {
      "display_name": "Python 3",
      "name": "python3"
    },
    "language_info": {
      "codemirror_mode": {
        "name": "ipython",
        "version": 3
      },
      "file_extension": ".py",
      "mimetype": "text/x-python",
      "name": "python",
      "nbconvert_exporter": "python",
      "pygments_lexer": "ipython3",
      "version": "3.12.7"
    }
  },
  "nbformat": 4,
  "nbformat_minor": 0
}
